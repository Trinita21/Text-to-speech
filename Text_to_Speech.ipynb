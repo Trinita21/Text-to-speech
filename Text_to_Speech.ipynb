{
  "nbformat": 4,
  "nbformat_minor": 0,
  "metadata": {
    "colab": {
      "name": "Text-to_Speech.ipynb",
      "provenance": []
    },
    "kernelspec": {
      "name": "python3",
      "display_name": "Python 3"
    },
    "language_info": {
      "name": "python"
    }
  },
  "cells": [
    {
      "cell_type": "code",
      "execution_count": 1,
      "metadata": {
        "colab": {
          "base_uri": "https://localhost:8080/"
        },
        "id": "xBYghukPh1xs",
        "outputId": "28008a4c-f865-46bc-d7e9-13efffc9a942"
      },
      "outputs": [
        {
          "output_type": "stream",
          "name": "stdout",
          "text": [
            "Collecting gTTS\n",
            "  Downloading gTTS-2.2.4-py3-none-any.whl (26 kB)\n",
            "Requirement already satisfied: click in /usr/local/lib/python3.7/dist-packages (from gTTS) (7.1.2)\n",
            "Requirement already satisfied: requests in /usr/local/lib/python3.7/dist-packages (from gTTS) (2.23.0)\n",
            "Requirement already satisfied: six in /usr/local/lib/python3.7/dist-packages (from gTTS) (1.15.0)\n",
            "Requirement already satisfied: urllib3!=1.25.0,!=1.25.1,<1.26,>=1.21.1 in /usr/local/lib/python3.7/dist-packages (from requests->gTTS) (1.24.3)\n",
            "Requirement already satisfied: chardet<4,>=3.0.2 in /usr/local/lib/python3.7/dist-packages (from requests->gTTS) (3.0.4)\n",
            "Requirement already satisfied: idna<3,>=2.5 in /usr/local/lib/python3.7/dist-packages (from requests->gTTS) (2.10)\n",
            "Requirement already satisfied: certifi>=2017.4.17 in /usr/local/lib/python3.7/dist-packages (from requests->gTTS) (2021.10.8)\n",
            "Installing collected packages: gTTS\n",
            "Successfully installed gTTS-2.2.4\n"
          ]
        }
      ],
      "source": [
        "!pip install gTTS #Google text to speech"
      ]
    },
    {
      "cell_type": "code",
      "source": [
        "from gtts import gTTS\n",
        "from IPython.display import Audio"
      ],
      "metadata": {
        "id": "MsiIpQ0OiOMd"
      },
      "execution_count": 2,
      "outputs": []
    },
    {
      "cell_type": "code",
      "source": [
        "tts = gTTS(input())\n",
        "tts.save(\"1.wav\")"
      ],
      "metadata": {
        "colab": {
          "base_uri": "https://localhost:8080/"
        },
        "id": "KiRR_QeWicM9",
        "outputId": "ae129121-fd19-4faa-8da1-33161f326101"
      },
      "execution_count": 11,
      "outputs": [
        {
          "name": "stdout",
          "output_type": "stream",
          "text": [
            "Hello I am Trinita Roy\n"
          ]
        }
      ]
    },
    {
      "cell_type": "code",
      "source": [
        "audio_clip=\"1.wav\"\n",
        "Audio(audio_clip,autoplay=True)"
      ],
      "metadata": {
        "colab": {
          "base_uri": "https://localhost:8080/",
          "height": 75
        },
        "id": "kTyp8t7fi-J4",
        "outputId": "1b3a946d-f86a-4f0c-9015-d8b69684c6f8"
      },
      "execution_count": 12,
      "outputs": [
        {
          "output_type": "execute_result",
          "data": {
            "text/plain": [
              "<IPython.lib.display.Audio object>"
            ],
            "text/html": [
              "\n",
              "                <audio controls=\"controls\" autoplay=\"autoplay\">\n",
              "                    <source src=\"data:audio/x-wav;base64,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\" type=\"audio/x-wav\" />\n",
              "                    Your browser does not support the audio element.\n",
              "                </audio>\n",
              "              "
            ]
          },
          "metadata": {},
          "execution_count": 12
        }
      ]
    },
    {
      "cell_type": "code",
      "source": [
        ""
      ],
      "metadata": {
        "id": "foUqhdJl8MtW"
      },
      "execution_count": 4,
      "outputs": []
    }
  ]
}